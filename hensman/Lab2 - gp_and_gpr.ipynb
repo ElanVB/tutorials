{
 "cells": [
  {
   "cell_type": "markdown",
   "metadata": {},
   "source": [
    "# Lab session 2: GPs and GP regression with GPflow \n",
    "\n",
    "This tutorial is adapted from the Gaussian Process Summer School that is running at the University of Sheffield since 2013. It also strongly inspired from the gpflow online documentation.\n",
    "\n",
    "The aim of this lab session is to illustrate the concepts seen during the lectures. We will focus on three aspects of GPs: the kernel, the random sample paths and the GP regression model.\n",
    "\n",
    "We assume that GPflow is already installed on your machine and that your are running the 1.0.0 version.\n",
    "\n",
    "We first tell the jupyter notebook that we want the plots to appear inline, then we import the libraries we will need:\n"
   ]
  },
  {
   "cell_type": "code",
   "execution_count": 1,
   "metadata": {},
   "outputs": [],
   "source": [
    "import numpy as np\n",
    "from matplotlib import pyplot as plt\n",
    "%matplotlib inline\n",
    "\n",
    "import gpflow\n",
    "assert gpflow.__version__ == '1.0.0'"
   ]
  },
  {
   "cell_type": "markdown",
   "metadata": {},
   "source": [
    "## 1.   Getting started: The Covariance Function\n",
    "\n",
    "There are many covariance functions (i.e. kernels) that are already implemented in gpflow, such as \n",
    "\n",
    " - GPflow.kernels.Constant\n",
    "\n",
    " - GPflow.kernels.Linear\n",
    "\n",
    " - GPflow.kernels.White\n",
    "\n",
    " - GPflow.kernels.Matern12\n",
    "\n",
    " - GPflow.kernels.Matern32\n",
    "\n",
    " - GPflow.kernels.Matern52\n",
    "\n",
    " - GPflow.kernels.RBF\n",
    "\n",
    " - GPflow.kernels.Cosine\n",
    "\n",
    " - GPflow.kernels.PeriodicKernel\n",
    "\n",
    "\n",
    "Let's start with a Matern 5/2 kernel in one dimension:"
   ]
  },
  {
   "cell_type": "code",
   "execution_count": 2,
   "metadata": {},
   "outputs": [],
   "source": [
    "k = gpflow.kernels.Matern52(input_dim=1, variance=1., lengthscales=0.2)"
   ]
  },
  {
   "cell_type": "markdown",
   "metadata": {},
   "source": [
    "A summary of the kernel can be obtained using the command `print(k)`. "
   ]
  },
  {
   "cell_type": "code",
   "execution_count": 4,
   "metadata": {},
   "outputs": [
    {
     "name": "stdout",
     "output_type": "stream",
     "text": [
      "<Parameter name:\u001b[1mMatern52/variance\u001b[0m [trainable] prior:None shape:() transform:+ve>\n",
      "value: 1.0\n",
      "\n",
      "<Parameter name:\u001b[1mMatern52/lengthscales\u001b[0m [trainable] prior:None shape:() transform:+ve>\n",
      "value: 0.2\n",
      "1.0\n",
      "0.2\n"
     ]
    }
   ],
   "source": [
    "print(k)\n",
    "\n",
    "## If you are only interested in one parameter value, you can also do\n",
    "print(k.variance.read_value())\n",
    "print(k.lengthscales.read_value())"
   ]
  },
  {
   "cell_type": "markdown",
   "metadata": {},
   "source": [
    "Since a kernel $k(.,.)$ is a function of two inputs (plus some parameters), it is common to freeze one of the variable to a given value (say $0.5$) and to plot the kernel as a function of the remaining one:"
   ]
  },
  {
   "cell_type": "code",
   "execution_count": null,
   "metadata": {
    "scrolled": true
   },
   "outputs": [],
   "source": [
    "x_grid = np.linspace(0, 1, 100).reshape(100,1)     # get 100 points evenly spaced shaped as a column vector\n",
    "plt.plot(x_grid, k.compute_K(x_grid, np.array([[.5]])))\n",
    "plt.ylim((0,1.2));"
   ]
  },
  {
   "cell_type": "markdown",
   "metadata": {},
   "source": [
    "### Exercise 1:\n",
    "\n",
    "a) Here is how to change the `variance` and `lengthscales` kernel parameters. What are their influence on the covariance function? "
   ]
  },
  {
   "cell_type": "code",
   "execution_count": null,
   "metadata": {},
   "outputs": [],
   "source": [
    "k.variance = 0.5\n",
    "k.lengthscales = 1."
   ]
  },
  {
   "cell_type": "markdown",
   "metadata": {},
   "source": [
    "b) Since the kernel corresponds to the covariance between the GP values:\n",
    "$$ k(x,y) = cov(Y(x), Y(y))$$\n",
    "What should that imply for the GP samples?\n",
    "\n",
    "c) plot three other covariance functions, do they all look like \"hat functions\"?"
   ]
  },
  {
   "cell_type": "markdown",
   "metadata": {},
   "source": [
    "## 2.   Sampling from a Gaussian Process\n",
    "\n",
    "By definition, the values taken by a GP evaluated on a grid follow a multivariate normal distribution. Given the mean function and the kernel we can thus evaluate them on a grid and use a multivariate normal sampler to  plot some samples."
   ]
  },
  {
   "cell_type": "code",
   "execution_count": null,
   "metadata": {},
   "outputs": [],
   "source": [
    "k = gpflow.kernels.Matern52(input_dim=1, variance=1., lengthscales=0.2)\n",
    "\n",
    "mu = 0 * x_grid.flatten()            # vector of the means, it is just zero here.\n",
    "C = k.compute_K(x_grid, x_grid)      # compute the covariance matrix associated with inputs x_grid\n",
    "\n",
    "# Generate 20 separate samples paths from a Gaussian with mean mu and covariance C\n",
    "Z = np.random.multivariate_normal(mu,C,20)\n",
    "\n",
    "# plot them all\n",
    "plt.plot(x_grid, Z.T);"
   ]
  },
  {
   "cell_type": "markdown",
   "metadata": {},
   "source": [
    "### Exercise 2\n",
    "\n",
    "a) modify the above code to change the kernel and the mean function. What is the effect on the samples? Can you find a kernel such that the samples are continuous but not differentiable? One the other hand, can you find a kernel such that the samples are extremely smooth?\n",
    "\n",
    "b) Investigate the influence of the kernel parameters on the samples. For example, try a lengthscale of 0.01, and a lengthscale of 10. Are the effects in line with your answer from the previous exercise? \n"
   ]
  },
  {
   "cell_type": "markdown",
   "metadata": {},
   "source": [
    "## 3.  A Gaussian Process Regression Model\n",
    "\n",
    "We will now combine the Gaussian process prior with some data to form a GP regression model with GPflow. We will generate data from the function $f ( x ) = − \\cos(\\pi x ) + \\sin(4\\pi x )$ over $[0, 1]$, adding some noise to give $y(x) = f(x) + \\epsilon$, with the noise being Gaussian distributed, $\\epsilon \\sim \\mathcal{N}(0, 0.01)$."
   ]
  },
  {
   "cell_type": "code",
   "execution_count": 3,
   "metadata": {},
   "outputs": [
    {
     "data": {
      "text/plain": [
       "[<matplotlib.lines.Line2D at 0x7f547eab4a90>]"
      ]
     },
     "execution_count": 3,
     "metadata": {},
     "output_type": "execute_result"
    },
    {
     "data": {
      "image/png": "[encoded data removed]",
      "text/plain": [
       "<matplotlib.figure.Figure at 0x7f547eaf3630>"
      ]
     },
     "metadata": {},
     "output_type": "display_data"
    }
   ],
   "source": [
    "def test_function(x):\n",
    "    y = -np.cos(np.pi*x) + np.sin(4*np.pi*x) + np.random.normal(loc=0.0, scale=0.1, size=x.shape) \n",
    "    return(4*y)\n",
    "\n",
    "X = np.linspace(0.05, 0.95, 10).reshape(10, 1)\n",
    "Y = test_function(X)\n",
    "\n",
    "plt.plot(X, Y, 'kx', mew=1.5)"
   ]
  },
  {
   "cell_type": "markdown",
   "metadata": {},
   "source": [
    "We are now going to reconstruct an approximation of the test function using only this data, and the prior knowledge that the function is very smooth (i.e. infinitely differentiable).\n",
    "\n",
    "### Exercise 3\n",
    "\n",
    "a) What kernel would you suggest in order to account for this prior knowledge? \n",
    "\n",
    "b) Similarly, can you hand pick reasonable values for the `variance` and `lengthscales` for this problem? \n",
    "\n",
    "c) Update the lines below accordingly."
   ]
  },
  {
   "cell_type": "code",
   "execution_count": null,
   "metadata": {},
   "outputs": [],
   "source": [
    "k = gpflow.kernels.Matern32(input_dim=1, variance=1., lengthscales=.2)\n",
    "k.lengthscales = 1.\n",
    "k.variance = 0.5"
   ]
  },
  {
   "cell_type": "markdown",
   "metadata": {},
   "source": [
    "Creating a GP regression model is then quite simple:"
   ]
  },
  {
   "cell_type": "code",
   "execution_count": null,
   "metadata": {},
   "outputs": [],
   "source": [
    "m = gpflow.models.GPR(X, Y, k)\n",
    "print(m)"
   ]
  },
  {
   "cell_type": "markdown",
   "metadata": {},
   "source": [
    "Now, let's plot our model predictions!"
   ]
  },
  {
   "cell_type": "code",
   "execution_count": null,
   "metadata": {},
   "outputs": [],
   "source": [
    "def plot(x_grid, m):\n",
    "    mean_pred, var_pred = m.predict_f(x_grid)\n",
    "    upper_95 = mean_pred + 2*np.sqrt(var_pred)\n",
    "    lower_95 = mean_pred - 2*np.sqrt(var_pred)\n",
    "\n",
    "    plt.figure(figsize=(10,7))\n",
    "    plt.plot(x_grid, mean_pred, color='#204a87')\n",
    "    plt.fill_between(x_grid[:,0], lower_95[:,0], upper_95[:,0], color='#204a87', alpha=.2)\n",
    "    plt.plot(m.X.read_value(), m.Y.read_value(), 'kx', mew=1.5);\n",
    "\n",
    "plot(x_grid, m)"
   ]
  },
  {
   "cell_type": "markdown",
   "metadata": {},
   "source": [
    "The prediction variance is quite wrong on this example! The next exercise is about setting it right."
   ]
  },
  {
   "cell_type": "markdown",
   "metadata": {},
   "source": [
    "### Exercise 4\n",
    "\n",
    "*a)* By default, the noise variance is set to 1 when the model is created. You can modify this by assigning a new value by running `m.likelihood.variance = 0.1`. Can you tweak this parameter to obtain a more sensible model?"
   ]
  },
  {
   "cell_type": "markdown",
   "metadata": {},
   "source": [
    "*b)* What happen to the model predition if you change the kernel paramerers (you can directly assign values to `m.kern.variance` and `m.kern.lengthscales`)? Is that in accordance with your answers from Ex 2.b? \n",
    "\n",
    "As we have seen previously, generating samples from a GP requires the vector corresponding to the mean function and the covariance matrix. The first one is already computed as `mean_pred`, but `var_pred` is only a vector of the variance values and not the full covariance matrix. \n",
    "\n",
    "*c)* Use the `m.predict_f_full_cov` function to obtain the full covariance matrix. Generate and plot samples from the posterior distribution."
   ]
  },
  {
   "cell_type": "markdown",
   "metadata": {},
   "source": [
    "## 4.  Covariance Function Parameter Estimation"
   ]
  },
  {
   "cell_type": "markdown",
   "metadata": {},
   "source": [
    "As we have seen during the course, the parameters values can be estimated by maximizing the likelihood of the observations. Since we don’t want one of the variance to become negative during the optimization, the parameteres are by default constrained to be positive:"
   ]
  },
  {
   "cell_type": "code",
   "execution_count": null,
   "metadata": {},
   "outputs": [],
   "source": [
    "print(m)"
   ]
  },
  {
   "cell_type": "markdown",
   "metadata": {},
   "source": [
    "Now we can optimize the model:"
   ]
  },
  {
   "cell_type": "code",
   "execution_count": null,
   "metadata": {},
   "outputs": [],
   "source": [
    "gpflow.train.ScipyOptimizer().minimize(m)\n",
    "\n",
    "## print m\n",
    "print(m.kern.variance.read_value())\n",
    "print(m.kern.lengthscales.read_value())\n",
    "print(m.likelihood.variance.read_value())"
   ]
  },
  {
   "cell_type": "code",
   "execution_count": null,
   "metadata": {},
   "outputs": [],
   "source": [
    "plot(x_grid, m)"
   ]
  },
  {
   "cell_type": "markdown",
   "metadata": {},
   "source": [
    "## 5. Computing the mean value of the test function\n",
    "\n",
    "In this section, we will see that using the GP model leads to more accurate predictions than if we where to use only the raw data. We will focus here on one particular quantity to predict: the average value of the test function (i.e. its ingregral). Since this is a toy example, calculus can show that this average value is exactly 0. \n",
    "\n",
    "Monte-Carlo is the cannonical method for approximating average values. It consists in taking the average value of a very large number of data points with inputs distributed uniformly:"
   ]
  },
  {
   "cell_type": "code",
   "execution_count": null,
   "metadata": {},
   "outputs": [],
   "source": [
    "X = np.random.uniform(0, 1, (1000,1))\n",
    "Y = test_function(X)\n",
    "\n",
    "plt.plot(X.T, Y.T, 'kx')\n",
    "np.mean(Y)"
   ]
  },
  {
   "cell_type": "markdown",
   "metadata": {},
   "source": [
    "We can see that the result is approximated pretty well but we had to use 1000 datapoints! In practice, it is often the case that the number of data points is limited. Let's see if we can retreive this value with only 20 observations of the function:"
   ]
  },
  {
   "cell_type": "code",
   "execution_count": null,
   "metadata": {},
   "outputs": [],
   "source": [
    "X = np.random.uniform(0, 1, (20,1))\n",
    "Y = test_function(X)\n",
    "\n",
    "plt.plot(X.T, Y.T, 'kx')\n",
    "np.mean(Y)"
   ]
  },
  {
   "cell_type": "markdown",
   "metadata": {},
   "source": [
    "The quality of the approximation is definitely not as good as before. On the other hand, we can use those 10  points to build a GP regression model and then approximate the average value of the test function by the average value of the posterior mean:"
   ]
  },
  {
   "cell_type": "code",
   "execution_count": null,
   "metadata": {},
   "outputs": [],
   "source": [
    "k = gpflow.kernels.Matern32(input_dim=1, variance=1., lengthscales=.2)\n",
    "\n",
    "m = gpflow.models.GPR(X, Y, k)\n",
    "m.compile()\n",
    "\n",
    "gpflow.train.ScipyOptimizer().minimize(m)\n",
    "\n",
    "plot(x_grid, m)\n",
    "\n",
    "mean_pred, var_pred = m.predict_f(x_grid)\n",
    "np.mean(mean_pred)"
   ]
  },
  {
   "cell_type": "markdown",
   "metadata": {},
   "source": [
    "### Exercise 5\n",
    "\n",
    "*a)* Which of the two methods based on 20 data points seems to return a value closest to the target? Can you tell why?\n",
    "\n",
    "*b)* For now we have only used the mean prediction and not the uncertainty that is also provided by the model. In order to properly quantify the uncertainty, we can generate samples from the conditional distribution and then compute the average value of the samples. This average value will thus be random since it is based on a random sample paths and it is possible to compute its mean and variance. Can you write the code that does so?\n",
    "\n",
    "*c)* (advanced) In this case, the distribution of the average values of the samples can be computed analytically using the linearity of the expectation and the covariance. Give it a shot if you want to!\n"
   ]
  },
  {
   "cell_type": "markdown",
   "metadata": {},
   "source": [
    "## Further exercises: Combining Covariance Functions"
   ]
  },
  {
   "cell_type": "markdown",
   "metadata": {},
   "source": [
    "In GPflow you can easily combine covariance functions you have created using the sum and product operators, `+` and `*`. So, for example, if we wish to combine an exponentiated quadratic covariance with a Matern 5/2 then we can write"
   ]
  },
  {
   "cell_type": "code",
   "execution_count": 5,
   "metadata": {},
   "outputs": [
    {
     "name": "stdout",
     "output_type": "stream",
     "text": [
      "<Parameter name:\u001b[1mAdd/rbf/variance\u001b[0m [trainable] prior:None shape:() transform:+ve>\n",
      "value: 1.0\n",
      "\n",
      "<Parameter name:\u001b[1mAdd/rbf/lengthscales\u001b[0m [trainable] prior:None shape:() transform:+ve>\n",
      "value: 2.0\n",
      "\n",
      "<Parameter name:\u001b[1mAdd/matern52/variance\u001b[0m [trainable] prior:None shape:() transform:+ve>\n",
      "value: 2.0\n",
      "\n",
      "<Parameter name:\u001b[1mAdd/matern52/lengthscales\u001b[0m [trainable] prior:None shape:() transform:+ve>\n",
      "value: 4.0\n"
     ]
    }
   ],
   "source": [
    "kern1 = gpflow.kernels.RBF(1, variance=1., lengthscales=2.)\n",
    "kern2 = gpflow.kernels.Matern52(1, variance=2., lengthscales=4.)\n",
    "kern = kern1 + kern2\n",
    "\n",
    "print(kern)"
   ]
  },
  {
   "cell_type": "markdown",
   "metadata": {},
   "source": [
    "Or if we wanted to multiply them we can write"
   ]
  },
  {
   "cell_type": "code",
   "execution_count": 6,
   "metadata": {},
   "outputs": [
    {
     "name": "stdout",
     "output_type": "stream",
     "text": [
      "<Parameter name:\u001b[1mProd/rbf/variance\u001b[0m [trainable] prior:None shape:() transform:+ve>\n",
      "value: 1.0\n",
      "\n",
      "<Parameter name:\u001b[1mProd/rbf/lengthscales\u001b[0m [trainable] prior:None shape:() transform:+ve>\n",
      "value: 2.0\n",
      "\n",
      "<Parameter name:\u001b[1mProd/matern52/variance\u001b[0m [trainable] prior:None shape:() transform:+ve>\n",
      "value: 2.0\n",
      "\n",
      "<Parameter name:\u001b[1mProd/matern52/lengthscales\u001b[0m [trainable] prior:None shape:() transform:+ve>\n",
      "value: 4.0\n"
     ]
    }
   ],
   "source": [
    "kern = kern1 * kern2\n",
    "\n",
    "print(kern)"
   ]
  },
  {
   "cell_type": "markdown",
   "metadata": {},
   "source": [
    "### Exercise 5\n",
    "\n",
    "a) Generate samples from the above kernels. \n",
    "\n",
    "b) Can you build a kernel such that the samples look similar to the following plots?\n",
    "\n",
    "![samples to replicate](img/mystery_samples.png)"
   ]
  },
  {
   "cell_type": "code",
   "execution_count": null,
   "metadata": {},
   "outputs": [],
   "source": []
  }
 ],
 "metadata": {
  "anaconda-cloud": {},
  "kernelspec": {
   "display_name": "Python 3",
   "language": "python",
   "name": "python3"
  },
  "language_info": {
   "codemirror_mode": {
    "name": "ipython",
    "version": 3
   },
   "file_extension": ".py",
   "mimetype": "text/x-python",
   "name": "python",
   "nbconvert_exporter": "python",
   "pygments_lexer": "ipython3",
   "version": "3.7.2"
  }
 },
 "nbformat": 4,
 "nbformat_minor": 1
}
