{
 "cells": [
  {
   "cell_type": "code",
   "execution_count": 4,
   "metadata": {},
   "outputs": [
    {
     "name": "stdout",
     "output_type": "stream",
     "text": [
      "Collecting gpflow\n",
      "  Using cached https://files.pythonhosted.org/packages/eb/07/0a22a7a33196fce2dc621d13168e0ce879d1eceb00507da0b958f26548cd/gpflow-1.4.1-py3-none-any.whl\n",
      "Collecting scipy>=0.18.0 (from gpflow)\n",
      "  Using cached https://files.pythonhosted.org/packages/81/ae/125c21f09b202c3009ad7d9fb0263fb7d6053813d4b67ccbbe4d65f7f53a/scipy-1.3.0-cp36-cp36m-macosx_10_6_intel.macosx_10_9_intel.macosx_10_9_x86_64.macosx_10_10_intel.macosx_10_10_x86_64.whl\n",
      "Collecting h5py>=2.7.0 (from gpflow)\n",
      "  Using cached https://files.pythonhosted.org/packages/03/21/1cdf7fa7868528b35c1a08a770eb9334279574a8b5f1d7a2966dcec14e42/h5py-2.9.0-cp36-cp36m-macosx_10_6_intel.macosx_10_9_intel.macosx_10_9_x86_64.macosx_10_10_intel.macosx_10_10_x86_64.whl\n",
      "Collecting pytest>=3.5.0 (from gpflow)\n",
      "  Using cached https://files.pythonhosted.org/packages/69/1d/2430053122a3c6106f7fd1ff0bc68eb73e27db8f951db70fcd942da52c7b/pytest-5.0.1-py3-none-any.whl\n",
      "Collecting decorator>=4.1 (from gpflow)\n",
      "  Using cached https://files.pythonhosted.org/packages/5f/88/0075e461560a1e750a0dcbf77f1d9de775028c37a19a346a6c565a257399/decorator-4.4.0-py2.py3-none-any.whl\n",
      "Collecting pandas>=0.18.1 (from gpflow)\n",
      "  Using cached https://files.pythonhosted.org/packages/94/f0/3099fdb1ae94663561cd695b820f05b6f6d240c919ba179c076015de5e37/pandas-0.25.0-cp36-cp36m-macosx_10_9_x86_64.macosx_10_10_x86_64.whl\n",
      "Collecting matplotlib>=2.2.2 (from gpflow)\n",
      "  Using cached https://files.pythonhosted.org/packages/cf/a4/d5387a74204542a60ad1baa84cd2d3353c330e59be8cf2d47c0b11d3cde8/matplotlib-3.1.1-cp36-cp36m-macosx_10_6_intel.macosx_10_9_intel.macosx_10_9_x86_64.macosx_10_10_intel.macosx_10_10_x86_64.whl\n",
      "Collecting numpy>=1.10.0 (from gpflow)\n",
      "  Using cached https://files.pythonhosted.org/packages/0f/c9/3526a357b6c35e5529158fbcfac1bb3adc8827e8809a6d254019d326d1cc/numpy-1.16.4-cp36-cp36m-macosx_10_6_intel.macosx_10_9_intel.macosx_10_9_x86_64.macosx_10_10_intel.macosx_10_10_x86_64.whl\n",
      "Collecting multipledispatch>=0.4.9 (from gpflow)\n",
      "  Using cached https://files.pythonhosted.org/packages/89/79/429ecef45fd5e4504f7474d4c3c3c4668c267be3370e4c2fd33e61506833/multipledispatch-0.6.0-py3-none-any.whl\n",
      "Collecting six (from h5py>=2.7.0->gpflow)\n",
      "  Using cached https://files.pythonhosted.org/packages/73/fb/00a976f728d0d1fecfe898238ce23f502a721c0ac0ecfedb80e0d88c64e9/six-1.12.0-py2.py3-none-any.whl\n",
      "Collecting importlib-metadata>=0.12 (from pytest>=3.5.0->gpflow)\n",
      "  Using cached https://files.pythonhosted.org/packages/bd/23/dce4879ec58acf3959580bfe769926ed8198727250c5e395e6785c764a02/importlib_metadata-0.18-py2.py3-none-any.whl\n",
      "Collecting wcwidth (from pytest>=3.5.0->gpflow)\n",
      "  Using cached https://files.pythonhosted.org/packages/7e/9f/526a6947247599b084ee5232e4f9190a38f398d7300d866af3ab571a5bfe/wcwidth-0.1.7-py2.py3-none-any.whl\n",
      "Collecting more-itertools>=4.0.0 (from pytest>=3.5.0->gpflow)\n",
      "  Using cached https://files.pythonhosted.org/packages/1f/9e/942df77ddde2fae3f319f2ab8b5d00d5f6b115496e2eb4bad37d1aaefeea/more_itertools-7.1.0-py3-none-any.whl\n",
      "Collecting pluggy<1.0,>=0.12 (from pytest>=3.5.0->gpflow)\n",
      "  Using cached https://files.pythonhosted.org/packages/06/ee/de89e0582276e3551df3110088bf20844de2b0e7df2748406876cc78e021/pluggy-0.12.0-py2.py3-none-any.whl\n",
      "Collecting attrs>=17.4.0 (from pytest>=3.5.0->gpflow)\n",
      "  Using cached https://files.pythonhosted.org/packages/23/96/d828354fa2dbdf216eaa7b7de0db692f12c234f7ef888cc14980ef40d1d2/attrs-19.1.0-py2.py3-none-any.whl\n",
      "Collecting py>=1.5.0 (from pytest>=3.5.0->gpflow)\n",
      "  Using cached https://files.pythonhosted.org/packages/76/bc/394ad449851729244a97857ee14d7cba61ddb268dce3db538ba2f2ba1f0f/py-1.8.0-py2.py3-none-any.whl\n",
      "Collecting atomicwrites>=1.0 (from pytest>=3.5.0->gpflow)\n",
      "  Using cached https://files.pythonhosted.org/packages/52/90/6155aa926f43f2b2a22b01be7241be3bfd1ceaf7d0b3267213e8127d41f4/atomicwrites-1.3.0-py2.py3-none-any.whl\n",
      "Collecting packaging (from pytest>=3.5.0->gpflow)\n",
      "  Using cached https://files.pythonhosted.org/packages/91/32/58bc30e646e55eab8b21abf89e353f59c0cc02c417e42929f4a9546e1b1d/packaging-19.0-py2.py3-none-any.whl\n",
      "Collecting pytz>=2017.2 (from pandas>=0.18.1->gpflow)\n",
      "  Using cached https://files.pythonhosted.org/packages/3d/73/fe30c2daaaa0713420d0382b16fbb761409f532c56bdcc514bf7b6262bb6/pytz-2019.1-py2.py3-none-any.whl\n",
      "Collecting python-dateutil>=2.6.1 (from pandas>=0.18.1->gpflow)\n",
      "  Using cached https://files.pythonhosted.org/packages/41/17/c62faccbfbd163c7f57f3844689e3a78bae1f403648a6afb1d0866d87fbb/python_dateutil-2.8.0-py2.py3-none-any.whl\n",
      "Collecting cycler>=0.10 (from matplotlib>=2.2.2->gpflow)\n",
      "  Using cached https://files.pythonhosted.org/packages/f7/d2/e07d3ebb2bd7af696440ce7e754c59dd546ffe1bbe732c8ab68b9c834e61/cycler-0.10.0-py2.py3-none-any.whl\n",
      "Collecting kiwisolver>=1.0.1 (from matplotlib>=2.2.2->gpflow)\n",
      "  Using cached https://files.pythonhosted.org/packages/49/5d/d1726d2a2fd471a69ef5014ca42812e1ccb8a13085c42bfcb238a5611f39/kiwisolver-1.1.0-cp36-cp36m-macosx_10_6_intel.macosx_10_9_intel.macosx_10_9_x86_64.macosx_10_10_intel.macosx_10_10_x86_64.whl\n",
      "Collecting pyparsing!=2.0.4,!=2.1.2,!=2.1.6,>=2.0.1 (from matplotlib>=2.2.2->gpflow)\n",
      "  Using cached https://files.pythonhosted.org/packages/dd/d9/3ec19e966301a6e25769976999bd7bbe552016f0d32b577dc9d63d2e0c49/pyparsing-2.4.0-py2.py3-none-any.whl\n",
      "Collecting zipp>=0.5 (from importlib-metadata>=0.12->pytest>=3.5.0->gpflow)\n",
      "  Using cached https://files.pythonhosted.org/packages/da/bd/1a5fdf15aa44231fd09f63ecf175b60f057ae37ec65b343bb009364923f3/zipp-0.5.2-py2.py3-none-any.whl\n",
      "Collecting setuptools (from kiwisolver>=1.0.1->matplotlib>=2.2.2->gpflow)\n",
      "  Using cached https://files.pythonhosted.org/packages/ec/51/f45cea425fd5cb0b0380f5b0f048ebc1da5b417e48d304838c02d6288a1e/setuptools-41.0.1-py2.py3-none-any.whl\n",
      "Installing collected packages: numpy, scipy, six, h5py, zipp, importlib-metadata, wcwidth, more-itertools, pluggy, attrs, py, atomicwrites, pyparsing, packaging, pytest, decorator, pytz, python-dateutil, pandas, cycler, setuptools, kiwisolver, matplotlib, multipledispatch, gpflow\n",
      "Successfully installed atomicwrites-1.3.0 attrs-19.1.0 cycler-0.10.0 decorator-4.4.0 gpflow-1.4.1 h5py-2.9.0 importlib-metadata-0.18 kiwisolver-1.1.0 matplotlib-3.1.1 more-itertools-7.1.0 multipledispatch-0.6.0 numpy-1.16.4 packaging-19.0 pandas-0.25.0 pluggy-0.12.0 py-1.8.0 pyparsing-2.4.0 pytest-5.0.1 python-dateutil-2.8.0 pytz-2019.1 scipy-1.3.0 setuptools-41.0.1 six-1.12.0 wcwidth-0.1.7 zipp-0.5.2\n"
     ]
    }
   ],
   "source": [
    "# Do it once \n",
    "!pip install -I gpflow"
   ]
  },
  {
   "cell_type": "code",
   "execution_count": 5,
   "metadata": {},
   "outputs": [
    {
     "ename": "ImportError",
     "evalue": "Something is wrong with the numpy installation. While importing we detected an older version of numpy in ['/Users/Pontragyin/anaconda3/envs/tf-cpu/lib/python3.6/site-packages/numpy']. One method of fixing this is to repeatedly uninstall numpy until none is found, then reinstall this version.",
     "output_type": "error",
     "traceback": [
      "\u001b[0;31m---------------------------------------------------------------------------\u001b[0m",
      "\u001b[0;31mImportError\u001b[0m                               Traceback (most recent call last)",
      "\u001b[0;32m<ipython-input-5-58612afd31ad>\u001b[0m in \u001b[0;36m<module>\u001b[0;34m\u001b[0m\n\u001b[0;32m----> 1\u001b[0;31m \u001b[0;32mimport\u001b[0m \u001b[0mnumpy\u001b[0m \u001b[0;32mas\u001b[0m \u001b[0mnp\u001b[0m\u001b[0;34m\u001b[0m\u001b[0m\n\u001b[0m\u001b[1;32m      2\u001b[0m \u001b[0;32mimport\u001b[0m \u001b[0mmatplotlib\u001b[0m\u001b[0;34m.\u001b[0m\u001b[0mpyplot\u001b[0m \u001b[0;32mas\u001b[0m \u001b[0mplt\u001b[0m\u001b[0;34m\u001b[0m\u001b[0m\n\u001b[1;32m      3\u001b[0m \u001b[0mget_ipython\u001b[0m\u001b[0;34m(\u001b[0m\u001b[0;34m)\u001b[0m\u001b[0;34m.\u001b[0m\u001b[0mrun_line_magic\u001b[0m\u001b[0;34m(\u001b[0m\u001b[0;34m'matplotlib'\u001b[0m\u001b[0;34m,\u001b[0m \u001b[0;34m'inline'\u001b[0m\u001b[0;34m)\u001b[0m\u001b[0;34m\u001b[0m\u001b[0m\n\u001b[1;32m      4\u001b[0m \u001b[0;32mimport\u001b[0m \u001b[0mtensorflow\u001b[0m \u001b[0;32mas\u001b[0m \u001b[0mtf\u001b[0m\u001b[0;34m\u001b[0m\u001b[0m\n\u001b[1;32m      5\u001b[0m \u001b[0;32mimport\u001b[0m \u001b[0mgpflow\u001b[0m\u001b[0;34m\u001b[0m\u001b[0m\n",
      "\u001b[0;32m~/anaconda3/envs/tf-cpu/lib/python3.6/site-packages/numpy/__init__.py\u001b[0m in \u001b[0;36m<module>\u001b[0;34m\u001b[0m\n\u001b[1;32m    140\u001b[0m     \u001b[0;32mfrom\u001b[0m \u001b[0;34m.\u001b[0m \u001b[0;32mimport\u001b[0m \u001b[0m_distributor_init\u001b[0m\u001b[0;34m\u001b[0m\u001b[0m\n\u001b[1;32m    141\u001b[0m \u001b[0;34m\u001b[0m\u001b[0m\n\u001b[0;32m--> 142\u001b[0;31m     \u001b[0;32mfrom\u001b[0m \u001b[0;34m.\u001b[0m \u001b[0;32mimport\u001b[0m \u001b[0mcore\u001b[0m\u001b[0;34m\u001b[0m\u001b[0m\n\u001b[0m\u001b[1;32m    143\u001b[0m     \u001b[0;32mfrom\u001b[0m \u001b[0;34m.\u001b[0m\u001b[0mcore\u001b[0m \u001b[0;32mimport\u001b[0m \u001b[0;34m*\u001b[0m\u001b[0;34m\u001b[0m\u001b[0m\n\u001b[1;32m    144\u001b[0m     \u001b[0;32mfrom\u001b[0m \u001b[0;34m.\u001b[0m \u001b[0;32mimport\u001b[0m \u001b[0mcompat\u001b[0m\u001b[0;34m\u001b[0m\u001b[0m\n",
      "\u001b[0;32m~/anaconda3/envs/tf-cpu/lib/python3.6/site-packages/numpy/core/__init__.py\u001b[0m in \u001b[0;36m<module>\u001b[0;34m\u001b[0m\n\u001b[1;32m     89\u001b[0m         \u001b[0;34m\"numpy in {}. One method of fixing this is to repeatedly uninstall \"\u001b[0m\u001b[0;34m\u001b[0m\u001b[0m\n\u001b[1;32m     90\u001b[0m         \"numpy until none is found, then reinstall this version.\")\n\u001b[0;32m---> 91\u001b[0;31m     \u001b[0;32mraise\u001b[0m \u001b[0mImportError\u001b[0m\u001b[0;34m(\u001b[0m\u001b[0mmsg\u001b[0m\u001b[0;34m.\u001b[0m\u001b[0mformat\u001b[0m\u001b[0;34m(\u001b[0m\u001b[0mpath\u001b[0m\u001b[0;34m)\u001b[0m\u001b[0;34m)\u001b[0m\u001b[0;34m\u001b[0m\u001b[0m\n\u001b[0m\u001b[1;32m     92\u001b[0m \u001b[0;34m\u001b[0m\u001b[0m\n\u001b[1;32m     93\u001b[0m \u001b[0;32mfrom\u001b[0m \u001b[0;34m.\u001b[0m \u001b[0;32mimport\u001b[0m \u001b[0mnumerictypes\u001b[0m \u001b[0;32mas\u001b[0m \u001b[0mnt\u001b[0m\u001b[0;34m\u001b[0m\u001b[0m\n",
      "\u001b[0;31mImportError\u001b[0m: Something is wrong with the numpy installation. While importing we detected an older version of numpy in ['/Users/Pontragyin/anaconda3/envs/tf-cpu/lib/python3.6/site-packages/numpy']. One method of fixing this is to repeatedly uninstall numpy until none is found, then reinstall this version."
     ]
    }
   ],
   "source": [
    "import numpy as np\n",
    "import matplotlib.pyplot as plt\n",
    "%matplotlib inline\n",
    "import tensorflow as tf\n",
    "import gpflow\n",
    "\n",
    "import matplotlib\n",
    "matplotlib.rcParams['figure.figsize'] = (14, 6)"
   ]
  },
  {
   "cell_type": "markdown",
   "metadata": {},
   "source": [
    "# Classification with sparse GPs\n",
    "\n",
    "### James Hensman 2017 - 2019\n",
    "\n",
    "This notebook serves as a tutorial: the aim is to understand how GP classification with sparse approximations work in GPflow."
   ]
  },
  {
   "cell_type": "markdown",
   "metadata": {
    "collapsed": true
   },
   "source": [
    "First, let's have a look at the illustrative dataset from the lecture. Here's how it was generated:"
   ]
  },
  {
   "cell_type": "code",
   "execution_count": null,
   "metadata": {},
   "outputs": [],
   "source": [
    "# Draw a sample from a GP\n",
    "\n",
    "# first build the kernel and kernel matrix\n",
    "k = gpflow.kernels.Matern52(1, variance=6.0)\n",
    "X_all = np.linspace(0, 6, 200).reshape(-1, 1)\n",
    "K = k.compute_K_symm(X_all)\n",
    "\n",
    "# sample from a multivariate normal\n",
    "L = np.linalg.cholesky(K)\n",
    "f_all = np.dot(L, np.random.RandomState(6).randn(200, 1))\n",
    "plt.plot(X_all, f_all, 'C0')\n",
    "\n",
    "# squash\n",
    "p_all = np.exp(f_all) / (1 + np.exp(f_all))\n",
    "plt.plot(X_all, p_all, 'C3')\n",
    "\n",
    "# evaluate a small number of points\n",
    "ind = np.random.randint(0, 200, (50,))\n",
    "X = X_all[ind]\n",
    "p = p_all[ind]\n",
    "plt.plot(X, p, 'C3o', ms=6)\n",
    "\n",
    "\n",
    "# bernoulli draws\n",
    "Y = np.where(np.random.rand(50, 1) < p, 1, 0)\n",
    "plt.plot(X, Y, 'C0x', ms=8, mew=2)\n",
    "\n",
    "plt.xlim(0, 6)\n",
    "plt.ylim(-1.5, 2.5)"
   ]
  },
  {
   "cell_type": "markdown",
   "metadata": {},
   "source": [
    "### Exercise 1: the effect of the parameters on classification datasets\n",
    "\n",
    "a) Change the variance parameter in the kernel above (try 100, 0.01). What is the effect on the data X, Y ?\n",
    "\n",
    "b) What is the effect of the lengthscale parameter on X and Y?\n",
    "\n",
    "Now let's build a GPflow model of these data."
   ]
  },
  {
   "cell_type": "code",
   "execution_count": null,
   "metadata": {},
   "outputs": [],
   "source": [
    "# here's a GPflow model. it assumes that the inducing locations Z are fixed to the data X.\n",
    "# We'll tell the model that the data are Binary (Bernoulli likelihood), and we'll pick a kernel.\n",
    "m = gpflow.models.SVGP(X, Y,\n",
    "                      likelihood=gpflow.likelihoods.Bernoulli(),\n",
    "                      kern=gpflow.kernels.Matern52(1),\n",
    "                      Z=X.copy())\n",
    "m.feature.Z.set_trainable(False)\n",
    "\n",
    "o = gpflow.train.ScipyOptimizer()\n",
    "o.minimize(m)"
   ]
  },
  {
   "cell_type": "code",
   "execution_count": null,
   "metadata": {},
   "outputs": [],
   "source": [
    "def plot_1d(m):\n",
    "    # work out some sensible limits\n",
    "    xmin, xmax = m.X.read_value().min(), m.X.read_value().max()\n",
    "    xmin, xmax = xmin - 0.1 * (xmax - xmin), xmax + 0.1 * (xmax - xmin)\n",
    "    Xtest = np.linspace(xmin, xmax, 200).reshape(-1, 1)\n",
    "    \n",
    "    # bubble fill the predictions\n",
    "    mu, var = m.predict_f(Xtest)\n",
    "    plt.fill_between(Xtest.flatten(),\n",
    "                     (mu + 2 * np.sqrt(var)).flatten(),\n",
    "                     (mu - 2 * np.sqrt(var)).flatten(),\n",
    "                     alpha=0.3, color='C1')\n",
    "    \n",
    "    # plot samples\n",
    "    samples = m.predict_f_samples(Xtest, 10).squeeze()\n",
    "    plt.plot(Xtest, samples.T, 'C1', lw=1)\n",
    "    \n",
    "    # plot p-samples\n",
    "    p = np.exp(samples) / (1. + np.exp(samples))\n",
    "    plt.plot(Xtest, p.T, 'C3', lw=1)\n",
    "\n",
    "    # plot data\n",
    "    plt.plot(m.X.read_value(), m.Y.read_value(), 'C0x', ms=8, mew=2)\n",
    "    \n",
    "    plt.xlim(xmin, xmax)\n",
    "\n",
    "plot_1d(m)"
   ]
  },
  {
   "cell_type": "markdown",
   "metadata": {},
   "source": [
    "Okay, now we have a model of your dataset. Let's poke the model and see if we can understand how it works. \n",
    "\n",
    "### Exercise 2: poke the model\n",
    "\n",
    "a) Print the model. Can you relate the parameters to the variables discussed in the lecture?\n",
    "\n",
    "b) After optimizing the model, has the model managed to estimate the kernel parameters effectively? \n",
    "\n",
    "c) Since we know what the optimal kernel parameters are, let's see how the model works with those. Assign the known kernel parameters to the model and mark them as not for training (`m.kern.foo.set_trainable(False)`). You will have to optimize the model again. Are these parameters better than the estimated ones? "
   ]
  },
  {
   "cell_type": "code",
   "execution_count": null,
   "metadata": {},
   "outputs": [],
   "source": [
    "# your answers here."
   ]
  },
  {
   "cell_type": "markdown",
   "metadata": {},
   "source": [
    "## Classification in 2D\n",
    "\n",
    "It's straightforward to move the GP classification problem into 2D by simply changing the kernel. We'll do that here, and in addition relax the assumption that X=Z. "
   ]
  },
  {
   "cell_type": "code",
   "execution_count": null,
   "metadata": {},
   "outputs": [],
   "source": [
    "# Use this if you are using Colab \n",
    "raw_url = 'https://raw.githubusercontent.com/mlss-2019/tutorials/master/hensman/'\n",
    "\n",
    "# here's a standard 2D dataset.\n",
    "\n",
    "X_banana = np.loadtxt(raw_url + 'data/banana_X_train', delimiter=',')\n",
    "Y_banana = np.loadtxt(raw_url + 'data/banana_Y_train', delimiter=',').reshape(-1, 1)"
   ]
  },
  {
   "cell_type": "code",
   "execution_count": null,
   "metadata": {},
   "outputs": [],
   "source": [
    "# here's a standard 2D dataset.\n",
    "X_banana = np.loadtxt('data/banana_X_train', delimiter=',')\n",
    "Y_banana = np.loadtxt('data/banana_Y_train', delimiter=',').reshape(-1, 1)"
   ]
  },
  {
   "cell_type": "code",
   "execution_count": null,
   "metadata": {},
   "outputs": [],
   "source": [
    "# here's the sparse GP model:\n",
    "m = gpflow.models.SVGP(X_banana, Y_banana,\n",
    "                       kern=gpflow.kernels.Matern52(2),\n",
    "                       likelihood=gpflow.likelihoods.Bernoulli(),\n",
    "                       Z=np.random.rand(8, 2))"
   ]
  },
  {
   "cell_type": "code",
   "execution_count": null,
   "metadata": {},
   "outputs": [],
   "source": [
    "# and here's a function for plotting the model\n",
    "def plot_2d(m):\n",
    "    sess = m.enquire_session(None)\n",
    "    #plot the inducing point locations:\n",
    "    if hasattr(m, 'Z'):\n",
    "        Z = m.Z.read_value(sess)\n",
    "        plt.plot(Z[:, 0], Z[:, 1], 'C3o', ms=10, label=\"inducing\")\n",
    "    \n",
    "    xmin, ymin = m.X.read_value(sess).min(0)\n",
    "    xmax, ymax = m.X.read_value(sess).max(0)\n",
    "    xmin, xmax = xmin - 0.1 * (xmax - xmin), xmax + 0.1 * (xmax - xmin)\n",
    "    ymin, ymax = ymin - 0.1 * (ymax - ymin), ymax + 0.1 * (ymax - ymin)\n",
    "    \n",
    "    xx, yy = np.mgrid[xmin:xmax:200j, ymin:ymax:200j]\n",
    "    Xtest = np.vstack([xx.flatten(), yy.flatten()]).T\n",
    "    mu, var = m.predict_y(Xtest)\n",
    "    \n",
    "    X, Y = m.X.read_value(sess), m.Y.read_value(sess)\n",
    "    \n",
    "    for i, level in [[0, 0.2], [1, 0.8]]:\n",
    "        plt.plot(X[Y.flatten()==i, 0], X[Y.flatten()==i, 1], 'C{}o'.format(i), ms=8, label='y={}'.format(i))\n",
    "        cs = plt.contour(xx, yy, mu.reshape(*xx.shape), [level], colors='C{}'.format(i), linewidths=3)\n",
    "        cs.collections[0].set_label('p(y={}) = {}'.format(i, level))\n",
    "                         \n",
    "    cs = plt.contour(xx, yy, mu.reshape(*xx.shape), [0.5], colors='C3', linewidths=1)\n",
    "    cs.collections[0].set_label('p(y=1) = 0.5')\n",
    "    \n",
    "    plt.legend(loc=0)\n",
    "    plt.xlim(xmin, xmax)\n",
    "    plt.ylim(ymin, ymax)\n"
   ]
  },
  {
   "cell_type": "markdown",
   "metadata": {},
   "source": [
    "### Exercise 3: understanding the model\n",
    "\n",
    "a) Use the above function to plot the model. What's going on in the plot? \n",
    "\n",
    "b) Okay, optimize the model (perhaps borrow the code from the 1D model above). Plot again. Better? \n",
    "\n",
    "c) How do the lines in the plots correspond to our distribution on functions?\n",
    "\n",
    "d) Investigate the effect of the *number* of the inducing input points. Try the model with 4, 12, 20, 200 rows in Z.\n",
    "Plot each: what happens?\n",
    "\n",
    "e) Investigate the effect of the *locations* of the inducing points. Does it work if you initialize them far away from the model? What does the model do if you refuse to let it adapt Z (`m.Z.set_trainable(False)`)? \n",
    "\n",
    "bonus) Initialize the model with Z = np.zeros((10, 2)). What happens and why?"
   ]
  },
  {
   "cell_type": "code",
   "execution_count": null,
   "metadata": {},
   "outputs": [],
   "source": [
    "# Your answers here!"
   ]
  }
 ],
 "metadata": {
  "kernelspec": {
   "display_name": "Python 3",
   "language": "python",
   "name": "python3"
  },
  "language_info": {
   "codemirror_mode": {
    "name": "ipython",
    "version": 3
   },
   "file_extension": ".py",
   "mimetype": "text/x-python",
   "name": "python",
   "nbconvert_exporter": "python",
   "pygments_lexer": "ipython3",
   "version": "3.6.6"
  }
 },
 "nbformat": 4,
 "nbformat_minor": 2
}
